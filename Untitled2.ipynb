{
 "cells": [
  {
   "cell_type": "code",
   "execution_count": null,
   "id": "216a4ac3",
   "metadata": {},
   "outputs": [],
   "source": [
    "# description: Generate a QR codeusing python"
   ]
  },
  {
   "cell_type": "code",
   "execution_count": null,
   "id": "d7ab3c38",
   "metadata": {},
   "outputs": [],
   "source": [
    "pip install qrcode"
   ]
  }
 ],
 "metadata": {
  "kernelspec": {
   "display_name": "Python 3 (ipykernel)",
   "language": "python",
   "name": "python3"
  },
  "language_info": {
   "codemirror_mode": {
    "name": "ipython",
    "version": 3
   },
   "file_extension": ".py",
   "mimetype": "text/x-python",
   "name": "python",
   "nbconvert_exporter": "python",
   "pygments_lexer": "ipython3",
   "version": "3.11.1"
  }
 },
 "nbformat": 4,
 "nbformat_minor": 5
}
